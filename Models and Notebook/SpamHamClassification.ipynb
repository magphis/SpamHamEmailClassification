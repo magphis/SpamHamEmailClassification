{
 "cells": [
  {
   "attachments": {},
   "cell_type": "markdown",
   "metadata": {},
   "source": [
    "0. KÜTÜPHANE"
   ]
  },
  {
   "cell_type": "code",
   "execution_count": 71,
   "metadata": {},
   "outputs": [],
   "source": [
    "# Importing required libraries\n",
    "\n",
    "import os\n",
    "import email\n",
    "import email.policy\n",
    "import numpy as np\n",
    "import matplotlib.pyplot as plt\n",
    "import seaborn as sns\n",
    "from sklearn.model_selection import train_test_split\n",
    "from sklearn.metrics import confusion_matrix"
   ]
  },
  {
   "attachments": {},
   "cell_type": "markdown",
   "metadata": {},
   "source": [
    "1. Load the data from /dataset"
   ]
  },
  {
   "cell_type": "code",
   "execution_count": 72,
   "metadata": {},
   "outputs": [],
   "source": [
    "# Spam and Ham Dataset Path\n",
    "\n",
    "SPAM_DIR = \"./dataset/spam\"\n",
    "HAM_DIR = \"./dataset/ham\""
   ]
  },
  {
   "cell_type": "code",
   "execution_count": 47,
   "metadata": {},
   "outputs": [],
   "source": [
    "# Extracting the file MIME format e-mail (spam and ham)\n",
    "\n",
    "ham_filenames = [name for name in sorted(os.listdir(HAM_DIR)) if name != 'cmds']\n",
    "spam_filenames = [name for name in sorted(os.listdir(SPAM_DIR)) if name != 'cmds']"
   ]
  },
  {
   "cell_type": "code",
   "execution_count": 74,
   "metadata": {},
   "outputs": [
    {
     "data": {
      "text/plain": [
       "(500, 2500)"
      ]
     },
     "execution_count": 74,
     "metadata": {},
     "output_type": "execute_result"
    }
   ],
   "source": [
    "len(spam_filenames), len(ham_filenames)"
   ]
  },
  {
   "cell_type": "code",
   "execution_count": 49,
   "metadata": {},
   "outputs": [],
   "source": [
    "# Load the data from the directory\n",
    "\n",
    "def load_emails(directory, filename):\n",
    "    with open(os.path.join(directory, filename), \"rb\") as f:\n",
    "        return email.parser.BytesParser(policy=email.policy.default).parse(f)\n",
    "    \n",
    "ham_emails = [load_emails(HAM_DIR, filename=name) for name in ham_filenames]\n",
    "spam_emails = [load_emails(SPAM_DIR, filename=name) for name in spam_filenames]"
   ]
  },
  {
   "cell_type": "code",
   "execution_count": 75,
   "metadata": {},
   "outputs": [
    {
     "name": "stdout",
     "output_type": "stream",
     "text": [
      "<html>\n",
      "<head>\n",
      "<title>Digital Publishing Tools - Free Software Alert!</title>\n",
      "<meta http-equiv=\"Content-Type\" content=\"text/html; charset=iso-8859-1\">\n",
      "</head>\n",
      "<body bgcolor=\"#FFFFFF\" text=\"#000000\">\n",
      "<center>\n",
      "<table width=\"582\" border=\"2\" cellspacing=\"0\" cellpadding=\"5\" bordercolor=\"#0077CC\">\n",
      "<tr>\n",
      "<td colspan=\"3\" width=\"582\" align=\"center\" bgcolor=\"#0077CC\"><!5122qHWL1-032pyeM4045IIgM3-001oYhw0942jQSK5-726UDqG9283lEHR8-145EiGhl64>\n",
      "<a href=\"http://3dpageturningebook.com\" style=\"text-decoration:none;\">\n",
      "<b><font face=\"Verdana, Arial, Helvetica, sans-serif\" size=\"4\" color=\"#FFFFFF\">Publish Like a Professional with Digital Publishing Tools</font></b>\n",
      "</a>\n",
      "</td>\n",
      "</tr>\n",
      "\n",
      "<tr>\n",
      "<td colspan=\"1\" width=\"204\" valign=\"top\">\n",
      "<b><font face=\"Verdana Arial, Helvetica, sans-serif\" color=\"#000066\" size=\"2\">Easily Create Professional:</font></b>\n",
      "<font face=\"Verdana, Arial, Helvetica, sans-serif\" size=\"1\" color=\"#000066\">\n",
      "<ul>\n",
      "<li>eBooks</li>\n",
      "<li>eBrochures</li>\n",
      "<li>eCatalogs</li>\n",
      "<li>Resumes</li>\n",
      "<li>Newsletters</li>\n",
      "<li>Presentations</li>\n",
      "<li>Magazines</li>\n",
      "<li>Photo Albums</li>\n",
      "<li>Invitations</li>\n",
      "<li>Much, much more</li>\n",
      "</ul>\n",
      "</font>\n",
      "</td>\n",
      "\n",
      "<td colspan=\"1\" width=\"264\" valign=\"top\" align=\"center\">\n",
      "<b><font face=\"Verdana Arial, Helvetica, sans-serif\" color=\"#000066\" size=\"2\">Save MONEY! - Save Trees</font></b>\n",
      "<br>\n",
      "<br>\n",
      "<font face=\"Verdana, Arial, Helvetica, sans-serif\" size=\"1\" color=\"#0077CC\">\n",
      "Save on Printing, Postage and Advertising Costs</font>\n",
      "<br>\n",
      "<br>\n",
      "<a href=\"http://3dpageturningebook.com\" style=\"text-decoration:none;\">\n",
      "<b><font face=\"Verdana Arial, Helvetica, sans-serif\" color=\"#000099\" size=\"5\">DIGITAL PUBLISHING TOOLS</font>\n",
      "<br>\n",
      "<br>\n",
      "<font face=\"Verdana Arial, Helvetica, sans-serif\" color=\"#000066\" size=\"3\">DOWNLOAD NEW FREE Version NOW!</font></b>\n",
      "</a>\n",
      "<br>\n",
      "<font face=\"Verdana, Arial, Helvetica, sans-serif\" size=\"1\" color=\"#0077CC\">*Limited Time Offer</font>\n",
      "</td>\n",
      "\n",
      "<td width=\"204\" valign=\"top\"><b>\n",
      "<font face=\"Verdana Arial, Helvetica, sans-serif\" size=\"2\" color=\"#000066\">Choose from these<br>\n",
      "Display Styles:</font></b>\n",
      "<font face=\"Verdana, Arial, Helvetica, sans-serif\" size=\"1\" color=\"#000066\">\n",
      "<ul>\n",
      "<li>3D Page Turn</li>\n",
      "<li>Slide Show</li>\n",
      "<li>Sweep/Wipe</li>\n",
      "</ul>\n",
      "</font>\n",
      "<font face=\"Verdana, Arial, Helvetica, sans-serif\" size=\"1\" color=\"#0077CC\">Embed hyperlinks and Link to anywhere Online, \n",
      "\n",
      "such as your Website, Order Page or Contact Form.\n",
      "<br>\n",
      "<br>\n",
      "Distribute via Floppy, CD-ROM, E-Mail or Online.\n",
      "</font>\n",
      "</td>\n",
      "</tr>\n",
      "\n",
      "<tr><td colspan=\"3\" width=\"582\" align=\"center\" bgcolor=\"#0077CC\"> \n",
      "<font color=\"#FFFFFF\" face=\"Verdana, Arial, Helvetica, sans-serif\" size=\"4\"><b>\n",
      "Take your Marketing to the Next Level!</b></font>\n",
      "</td>\n",
      "</tr>\n",
      "\n",
      "<tr>\n",
      "<td colspan=\"2\" width=\"384\"> \n",
      "<font size=\"2\" face=\"Verdana Arial, Helvetica, sans-serif\" color=\"#000066\">\n",
      "For <b>More Info</b>, <b>Samples</b> or a <b>FREE Download</b>, click the appropriate link to the right! &nbsp;\n",
      "Server demand is extremely high for this limited time <b>Free Software</b> offer. &nbsp;\n",
      "<b>Please try these links periodically if a site seems slow or unreachable.</b>\n",
      "</font>\n",
      "</td>\n",
      "\n",
      "<td colspan=\"1\" width=\"204\" align=\"center\"> \n",
      "<b><font size=\"4\" face=\"Verdana, Arial, Helvetica, sans-serif\">\n",
      "<a href=\"http://3dpageturningebook.com\">WEBSITE 1</a><br>\n",
      "<a href=\"http://TheyGo.com/FreeSoftware\">WEBSITE 2</a><br>\n",
      "<a href=\"http://www.digitalpublishingtools.com\">WEBSITE 3</a><br>\n",
      "</font></b>\n",
      "</td>\n",
      "</tr>\n",
      "\n",
      "<tr>\n",
      "<td colspan=\"3\" width=\"582\" align=\"center\">\n",
      "<form action=\"http://www.3dpageturningebook.com/unsubscribe.asp\" method=\"post\">\n",
      "<font size=\"2\" face=\"Verdana Arial, Helvetica, sans-serif\" color=\"#000066\">\n",
      "If you wish to be removed from our mailing list, please cick the Unsubscribe button\n",
      "</font>\n",
      "<br>\n",
      "<input size=\"25\" name=\"e\" value=\"zzzz@spamassassin.taint.org\n",
      "\"> &nbsp;<input type=\"submit\" value=\"Unsubscribe\">\n",
      "<input type=\"hidden\" name=\"c\" value=\"unsub\">\n",
      "</form>\n",
      "<font face=\"Verdana, Arial, Helvetica, sans-serif\" color=#000066 size=1>Copyright © 2002 - Affiliate ID #1269<br>\n",
      "*FREE Version is FULLY FUNCTIONAL with NO EXPIRATION and has a 4 page (2 page spread) limit.</font>\n",
      "</td>\n",
      "</tr>\n",
      "\n",
      "</table>\n",
      "\n",
      "</center>\n",
      "</body>\n",
      "</html>\n",
      "\n",
      "\n"
     ]
    }
   ],
   "source": [
    "# Example of a spam email\n",
    "\n",
    "spam = spam_emails[100]\n",
    "print(spam.get_content())"
   ]
  },
  {
   "cell_type": "code",
   "execution_count": 76,
   "metadata": {},
   "outputs": [
    {
     "name": "stdout",
     "output_type": "stream",
     "text": [
      "Vernon,\n",
      "\n",
      "I'm changing the instructions in the SpamAssassin INSTALL file \n",
      "right now to:\n",
      "\n",
      "tar xfvz dcc-dccproc.tar.Z\n",
      "cd dcc-dccproc-X.X.X\n",
      "./configure && make && make install\n",
      "cdcc 'info'\n",
      "\n",
      "\n",
      "Let me know ASAP if that's innapropriate, since we're shipping \n",
      "2.40 today!\n",
      "\n",
      "C\n",
      "\n",
      "On Monday, September 2, 2002, at 10:02  AM, Vernon Schryver wrote:\n",
      "\n",
      ">> Here are the instructions in the spamassassin README:\n",
      ">>\n",
      ">>     # tar xfvz dcc-dccproc.tar.Z\n",
      ">>     # cd dcc-dccproc-X.X.X\n",
      ">>     # ./configure && make && make install\n",
      ">>     # cdcc 'new map'\n",
      ">>     # cdcc 'add dcc.rhyolite.com'\n",
      ">>     # cdcc 'info'\n",
      ">\n",
      "> That's ok, except that the 'new map' and \"add dcc.rhyolite.com'\n",
      "> are respectively unnecessary and wrong.  The map file that comes\n",
      "> with the source points to localhost and dcc.dcc-servers.net.  Those\n",
      "> two shipped entries usually do the right thing if there is a local\n",
      "> server.  If there is no local server or if the local server fails,\n",
      "> requests are instantly sent to one of the public server names listed\n",
      "> in the main DCC web page at\n",
      "> http://www.rhyolite.com/anti-spam/dcc/ and http://www.dcc-\n",
      "> servers.net/dcc/\n",
      "> dcc.rhyolite.com has not been listed for months.\n",
      "\n",
      "\n",
      "\n"
     ]
    }
   ],
   "source": [
    "# Example of a ham email\n",
    "\n",
    "ham = ham_emails[100]\n",
    "print(ham.get_content())"
   ]
  },
  {
   "attachments": {},
   "cell_type": "markdown",
   "metadata": {},
   "source": [
    "2. Preprocessing (Data cleaning + Feature Extraction)"
   ]
  },
  {
   "cell_type": "code",
   "execution_count": 52,
   "metadata": {},
   "outputs": [],
   "source": [
    "# Traning and Testing dataset creation and split\n",
    "\n",
    "X = np.array(ham_emails + spam_emails, dtype=object)\n",
    "y = np.array([0] * len(ham_emails) + [1] * len(spam_emails))\n",
    "\n",
    "\n",
    "\n",
    "X_train, X_test, y_train, y_test = train_test_split(X, y, test_size=0.2, random_state=42)\n"
   ]
  },
  {
   "cell_type": "code",
   "execution_count": 53,
   "metadata": {},
   "outputs": [],
   "source": [
    "# Preprocessing raw data and saving cleaned data\n",
    "\n",
    "import preprocess # preprocess.py\n",
    "import importlib \n",
    "importlib.reload(preprocess)\n",
    "\n",
    "train_cleaned = preprocess.temizleme(X_train)\n",
    "test_cleaned = preprocess.temizleme(X_test)"
   ]
  },
  {
   "cell_type": "code",
   "execution_count": 78,
   "metadata": {},
   "outputs": [
    {
     "data": {
      "text/plain": [
       "['url url url url url digital publishing tool - free software alert ! publish like a professional with digital publishing tool easily create professional : ebooks ebrochures ecatalogs resume newsletter presentation magazine photo album invitation much , much more save money ! - save tree save on printing , postage and advertising cost digital publishing tool download new free version now ! * limited time offer choose from these display style : 3d page turn slide show sweep/wipe embed hyperlink and link to anywhere online , such a your website , order page or contact form . distribute via floppy , cd-rom , e-mail or online . take your marketing to the next level ! for more info , sample or a free download , click the appropriate link to the right ! server demand is extremely high for this limited time free software offer . please try these link periodically if a site seems slow or unreachable . website NUM website NUM website NUM if you wish to be removed from our mailing list , please cick the unsubscribe button copyright © NUM - affiliate id # NUM * free version is fully functional with no expiration and ha a NUM page ( NUM page spread ) limit .']"
      ]
     },
     "execution_count": 78,
     "metadata": {},
     "output_type": "execute_result"
    }
   ],
   "source": [
    "# Example of a preprocessed spam email\n",
    "\n",
    "spam_example = spam_emails[100:101]\n",
    "spam_cleaned_example = preprocess.temizleme(spam_ornek)\n",
    "spam_cleaned_example"
   ]
  },
  {
   "attachments": {},
   "cell_type": "markdown",
   "metadata": {},
   "source": [
    "____________________"
   ]
  },
  {
   "cell_type": "code",
   "execution_count": 63,
   "metadata": {},
   "outputs": [
    {
     "data": {
      "text/plain": [
       "array([[0, 0, 0, ..., 0, 0, 0],\n",
       "       [0, 0, 0, ..., 0, 0, 0],\n",
       "       [0, 0, 0, ..., 0, 0, 0],\n",
       "       ...,\n",
       "       [0, 0, 0, ..., 0, 0, 0],\n",
       "       [0, 1, 0, ..., 0, 0, 0],\n",
       "       [0, 0, 0, ..., 0, 0, 0]], dtype=int64)"
      ]
     },
     "execution_count": 63,
     "metadata": {},
     "output_type": "execute_result"
    }
   ],
   "source": [
    "# Feature Extraction using CountVectorizer\n",
    "\n",
    "from sklearn.feature_extraction.text import CountVectorizer\n",
    "\n",
    "cv = CountVectorizer(stop_words='english', lowercase=False)\n",
    "X_train_cv = cv.fit_transform(train_cleaned)\n",
    "X_test_cv = cv.transform(test_cleaned)\n",
    "\n",
    "# Converting sparse matrix to a dense matrix\n",
    "X_train_arr = X_train_cv.toarray()\n",
    "X_test_arr = X_test_cv.toarray()\n",
    "X_test_arr"
   ]
  },
  {
   "cell_type": "code",
   "execution_count": 79,
   "metadata": {},
   "outputs": [
    {
     "name": "stdout",
     "output_type": "stream",
     "text": [
      "(2400, 30501)\n",
      "(600, 30501)\n"
     ]
    }
   ],
   "source": [
    "print(X_train_arr.shape)\n",
    "print(X_test_arr.shape)\n"
   ]
  },
  {
   "attachments": {},
   "cell_type": "markdown",
   "metadata": {},
   "source": [
    "Örnek Özellik Çıkarımı"
   ]
  },
  {
   "cell_type": "code",
   "execution_count": 80,
   "metadata": {},
   "outputs": [
    {
     "data": {
      "text/plain": [
       "array(['3d', 'NUM', 'advertising', 'affiliate', 'album', 'alert',\n",
       "       'appropriate', 'button', 'cd', 'choose', 'cick', 'click',\n",
       "       'contact', 'copyright', 'cost', 'create', 'demand', 'digital',\n",
       "       'display', 'distribute', 'download', 'easily', 'ebooks',\n",
       "       'ebrochures', 'ecatalogs', 'embed', 'expiration', 'extremely',\n",
       "       'floppy', 'form', 'free', 'fully', 'functional', 'ha', 'high',\n",
       "       'hyperlink', 'id', 'info', 'invitation', 'level', 'like', 'limit',\n",
       "       'limited', 'link', 'list', 'magazine', 'mail', 'mailing',\n",
       "       'marketing', 'money', 'new', 'newsletter', 'offer', 'online',\n",
       "       'order', 'page', 'periodically', 'photo', 'postage',\n",
       "       'presentation', 'printing', 'professional', 'publish',\n",
       "       'publishing', 'removed', 'resume', 'right', 'rom', 'sample',\n",
       "       'save', 'server', 'site', 'slide', 'slow', 'software', 'spread',\n",
       "       'style', 'sweep', 'time', 'tool', 'tree', 'try', 'turn',\n",
       "       'unreachable', 'unsubscribe', 'url', 'version', 'website', 'wipe',\n",
       "       'wish'], dtype=object)"
      ]
     },
     "execution_count": 80,
     "metadata": {},
     "output_type": "execute_result"
    }
   ],
   "source": [
    "# E-posta - Ön İşleme (CV)\n",
    "\n",
    "spam_temiz_cv = cv.fit_transform(spam_ornek_temizleme)\n",
    "cv.get_feature_names_out()"
   ]
  },
  {
   "attachments": {},
   "cell_type": "markdown",
   "metadata": {},
   "source": [
    "_____________________________"
   ]
  },
  {
   "attachments": {},
   "cell_type": "markdown",
   "metadata": {},
   "source": [
    "3. Training the classifier Models"
   ]
  },
  {
   "cell_type": "code",
   "execution_count": 66,
   "metadata": {},
   "outputs": [],
   "source": [
    "# Logistic Regression Model from LogisticRegressionNumpy.py\n",
    "\n",
    "import LogisticRegressionScratch as LogisticRegression\n",
    "import importlib\n",
    "importlib.reload(LogisticRegression)\n",
    "\n",
    "\n",
    "LR = LogisticRegression.LogisticRegression()\n",
    "\n",
    "LR.fit(X_train_arr, y_train)\n",
    "y_pred_LR = LR.predict(X_test_arr)\n",
    "\n",
    "\n"
   ]
  },
  {
   "cell_type": "code",
   "execution_count": 67,
   "metadata": {},
   "outputs": [],
   "source": [
    "# Multinomial Naive Bayes Model from MultinomialNBScratch.py\n",
    "\n",
    "import MultinomialNBScratch as MultinomialNB\n",
    "importlib.reload(MultinomialNB)\n",
    "\n",
    "\n",
    "MNB = MultinomialNB.MultinomialNB()\n",
    "\n",
    "MNB.fit(X_train_arr,y_train)\n",
    "y_pred_MNB = MNB.predict(X_test_arr)\n",
    "\n"
   ]
  },
  {
   "cell_type": "code",
   "execution_count": 68,
   "metadata": {},
   "outputs": [],
   "source": [
    "# Bernoulli Naive Bayes from BernoulliNBScratch.py\n",
    "\n",
    "import BernoulliNBScratch as BernoulliNB\n",
    "importlib.reload(BernoulliNB)\n",
    "\n",
    "\n",
    "BNB = BernoulliNB.BernoulliNB()\n",
    "\n",
    "BNB.fit(X_train_arr,y_train)\n",
    "y_pred_BNB = BNB.predict(X_test_arr)"
   ]
  },
  {
   "attachments": {},
   "cell_type": "markdown",
   "metadata": {},
   "source": [
    "4. Evaluation"
   ]
  },
  {
   "cell_type": "code",
   "execution_count": null,
   "metadata": {},
   "outputs": [],
   "source": [
    "from sklearn.metrics import classification_report\n",
    "from tabulate import tabulate\n",
    "from sklearn.metrics import accuracy_score\n",
    "\n",
    "rep_LR = classification_report(y_test, y_pred_LR, output_dict=True)\n",
    "rep_MNB = classification_report(y_test, y_pred_MNB, output_dict=True)\n",
    "rep_BNB = classification_report(y_test, y_pred_BNB, output_dict=True)\n",
    "\n",
    "# Extract relevant metrics for class '0' from the classification reports\n",
    "lr_metrics_0 = rep_LR['0']\n",
    "mlt_metrics_0 = rep_MNB['0']\n",
    "ber_metrics_0 = rep_BNB['0']\n",
    "\n",
    "# Extract relevant metrics for class '1' from the classification reports\n",
    "lr_metrics_1 = rep_LR['1']\n",
    "mlt_metrics_1 = rep_MNB['1']\n",
    "ber_metrics_1 = rep_BNB['1']\n",
    "\n",
    "# Format the metrics as a table\n",
    "table = [['', 'Precision', 'Recall', 'F1-Score', 'Support'],\n",
    "         ['Logistic Regression (ham)', lr_metrics_0['precision'], lr_metrics_0['recall'], lr_metrics_0['f1-score'], lr_metrics_0['support']],\n",
    "         ['Logistic Regression (spam)', lr_metrics_1['precision'], lr_metrics_1['recall'], lr_metrics_1['f1-score'], lr_metrics_1['support']],\n",
    "         ['Multinomial Naive Bayes (ham)', mlt_metrics_0['precision'], mlt_metrics_0['recall'], mlt_metrics_0['f1-score'], mlt_metrics_0['support']],\n",
    "         ['Multinomial Naive Bayes (spam)', mlt_metrics_1['precision'], mlt_metrics_1['recall'], mlt_metrics_1['f1-score'], mlt_metrics_1['support']],\n",
    "         ['Bernoulli Naive Bayes (ham)', ber_metrics_0['precision'], ber_metrics_0['recall'], ber_metrics_0['f1-score'], ber_metrics_0['support']],\n",
    "         ['Bernoulli Naive Bayes (spam)', ber_metrics_1['precision'], ber_metrics_1['recall'], ber_metrics_1['f1-score'], ber_metrics_1['support']]]\n",
    "\n",
    "# Print the table side by side\n",
    "print(tabulate(table, headers='firstrow', tablefmt='pipe'))\n",
    "\n",
    "acc_LR = accuracy_score(y_pred_LR, y_test)\n",
    "acc_MNB = accuracy_score(y_pred_MNB, y_test)\n",
    "acc_BNB = accuracy_score(y_pred_BNB, y_test)\n",
    "print()\n",
    "print(\"\\033[1mAccuracy\\033[0m\")\n",
    "print(f\"Logistic Regression: {acc_LR}\")\n",
    "print(f\"Multinomial Naive Bayes: {acc_MNB}\")\n",
    "print(f\"Bernoulli Naive Bayes: {acc_BNB}\")"
   ]
  },
  {
   "cell_type": "code",
   "execution_count": null,
   "metadata": {},
   "outputs": [],
   "source": [
    "# Confusion Matrix\n",
    "\n",
    "cf_matrix_LR = confusion_matrix(y_test, y_pred_LR)\n",
    "\n",
    "cf_matrix_MNB = confusion_matrix(y_test, y_pred_MNB)\n",
    "\n",
    "cf_matrix_BNB = confusion_matrix(y_test, y_pred_BNB)\n",
    "\n",
    "# Create subplots\n",
    "fig, axes = plt.subplots(1, 3, figsize=(15, 5))\n",
    "\n",
    "\n",
    "axes[0].set_title('Confusion Matrix - Logistic Regression')\n",
    "sns.heatmap(cf_matrix_LR, annot=True, fmt='', cmap='Blues', ax=axes[0])\n",
    "\n",
    "\n",
    "axes[1].set_title('Confusion Matrix - Multinomial Naive Bayes')\n",
    "sns.heatmap(cf_matrix_MNB, annot=True, fmt='', cmap='Oranges', ax=axes[1])\n",
    "\n",
    "\n",
    "axes[2].set_title('Confusion Matrix - Bernoulli Naive Bayes')\n",
    "sns.heatmap(cf_matrix_BNB, annot=True, fmt='', cmap='Greens', ax=axes[2])\n",
    "\n",
    "# Adjust the layout and spacing between subplots\n",
    "plt.tight_layout()\n",
    "\n",
    "# Show the plot\n",
    "plt.show()\n"
   ]
  }
 ],
 "metadata": {
  "kernelspec": {
   "display_name": ".venv",
   "language": "python",
   "name": "python3"
  },
  "language_info": {
   "codemirror_mode": {
    "name": "ipython",
    "version": 3
   },
   "file_extension": ".py",
   "mimetype": "text/x-python",
   "name": "python",
   "nbconvert_exporter": "python",
   "pygments_lexer": "ipython3",
   "version": "3.11.3"
  },
  "orig_nbformat": 4
 },
 "nbformat": 4,
 "nbformat_minor": 2
}
